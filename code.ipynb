{
 "cells": [
  {
   "cell_type": "markdown",
   "metadata": {},
   "source": [
    "#### IMPORT LIBRARIES"
   ]
  },
  {
   "cell_type": "code",
   "execution_count": 44,
   "metadata": {},
   "outputs": [],
   "source": [
    "import configparser\n",
    "import requests\n",
    "import pandas as pd\n",
    "import datetime\n",
    "import psycopg2"
   ]
  },
  {
   "cell_type": "markdown",
   "metadata": {},
   "source": [
    "#### CONFIGURATIONS"
   ]
  },
  {
   "cell_type": "code",
   "execution_count": 45,
   "metadata": {},
   "outputs": [],
   "source": [
    "try:\n",
    "  # read config \n",
    "  config = configparser.ConfigParser()\n",
    "  config.read('config.ini')\n",
    "\n",
    "  # read openweather Config\n",
    "  API_KEY = config['openweather']['API_KEY']\n",
    "  LAT = config['openweather']['LAT']\n",
    "  LON = config['openweather']['LON']\n",
    "  UNITS = config['openweather']['UNITS']\n",
    "\n",
    "  # read database password\n",
    "  DATABASE_HOST = config['database']['DATABASE_HOST']\n",
    "  DATABASE_USER = config['database']['DATABASE_USER']\n",
    "  DATABASE_NAME = config['database']['DATABASE_NAME']\n",
    "  DATABASE_PASSWORD = config['database']['DATABASE_PASSWORD']\n",
    "  \n",
    "except:\n",
    "  print(\"An exception occurred in Configurations\")"
   ]
  },
  {
   "cell_type": "markdown",
   "metadata": {},
   "source": [
    "#### CONNECT DATABASE"
   ]
  },
  {
   "cell_type": "code",
   "execution_count": 46,
   "metadata": {},
   "outputs": [],
   "source": [
    "def dbConnect():\n",
    "  try:\n",
    "    conn = psycopg2.connect(f\"host={DATABASE_HOST} dbname={DATABASE_NAME} user={DATABASE_USER} password={DATABASE_PASSWORD}\")\n",
    "    return conn\n",
    "  \n",
    "  except:\n",
    "    print(\"Error occurred while connecting to Database\")"
   ]
  },
  {
   "cell_type": "markdown",
   "metadata": {},
   "source": [
    "## CODE"
   ]
  },
  {
   "cell_type": "markdown",
   "metadata": {},
   "source": [
    "#### Parsing Raw Data Function"
   ]
  },
  {
   "cell_type": "code",
   "execution_count": 47,
   "metadata": {},
   "outputs": [],
   "source": [
    "def parsingRawData(rawData: dict) -> dict[dict]:\n",
    "  myDict = {\n",
    "    \"date\": datetime.datetime.fromtimestamp(rawData[\"dt\"]),\n",
    "    \"city_name\": rawData[\"name\"],\n",
    "    \"city_id\": rawData[\"id\"],\n",
    "    \"country\": rawData[\"sys\"][\"country\"],\n",
    "    \"lon\": rawData[\"coord\"][\"lon\"],\n",
    "    \"lat\": rawData[\"coord\"][\"lat\"],\n",
    "    \"base\": rawData[\"base\"],\n",
    "    \"temp\": rawData[\"main\"][\"temp\"],\n",
    "    \"feels_like\": rawData[\"main\"][\"feels_like\"],\n",
    "    \"timezone\": rawData[\"timezone\"]\n",
    "  }\n",
    "  return myDict"
   ]
  },
  {
   "cell_type": "markdown",
   "metadata": {},
   "source": [
    "#### Insert Data Function"
   ]
  },
  {
   "cell_type": "code",
   "execution_count": 48,
   "metadata": {},
   "outputs": [],
   "source": [
    "def insertData(parsedData: dict):\n",
    "    conn = dbConnect()\n",
    "    try:\n",
    "        cursor = conn.cursor()\n",
    "\n",
    "        SQL = \"INSERT INTO tbldata (city_id, lat, lon, temp, feels_like, city_name, country, timezone, date) VALUES (%s, %s, %s, %s, %s, %s, %s, %s, %s);\"\n",
    "        data = (\n",
    "            parsedData[\"city_id\"],\n",
    "            parsedData['lat'],\n",
    "            parsedData[\"lon\"],\n",
    "            parsedData[\"temp\"],\n",
    "            parsedData[\"feels_like\"],\n",
    "            parsedData[\"city_name\"],\n",
    "            parsedData[\"country\"],\n",
    "            parsedData[\"timezone\"],\n",
    "            parsedData[\"date\"],\n",
    "            )\n",
    "        cursor.execute(SQL, data)\n",
    "\n",
    "        conn.commit()\n",
    "        count = cursor.rowcount\n",
    "        print(count, \"Record inserted successfully into tbldata\")\n",
    "\n",
    "    except (Exception, psycopg2.Error) as error:\n",
    "        print(\"Failed to insert record into tbldata\", error)\n",
    "\n",
    "    finally:\n",
    "        # closing database connection.\n",
    "        if conn:\n",
    "            cursor.close()\n",
    "            conn.close()\n",
    "            print(\"PostgreSQL connection is closed\")"
   ]
  },
  {
   "cell_type": "markdown",
   "metadata": {},
   "source": [
    "#### API Call"
   ]
  },
  {
   "cell_type": "code",
   "execution_count": 52,
   "metadata": {},
   "outputs": [
    {
     "data": {
      "text/plain": [
       "{'coord': {'lon': 7.5906, 'lat': 50.3681},\n",
       " 'weather': [{'id': 804,\n",
       "   'main': 'Clouds',\n",
       "   'description': 'overcast clouds',\n",
       "   'icon': '04d'}],\n",
       " 'base': 'stations',\n",
       " 'main': {'temp': 16.41,\n",
       "  'feels_like': 16.46,\n",
       "  'temp_min': 15.77,\n",
       "  'temp_max': 17.46,\n",
       "  'pressure': 1011,\n",
       "  'humidity': 90},\n",
       " 'visibility': 10000,\n",
       " 'wind': {'speed': 15.65, 'deg': 337},\n",
       " 'clouds': {'all': 100},\n",
       " 'dt': 1697126532,\n",
       " 'sys': {'type': 2,\n",
       "  'id': 19193,\n",
       "  'country': 'DE',\n",
       "  'sunrise': 1697089572,\n",
       "  'sunset': 1697129156},\n",
       " 'timezone': 7200,\n",
       " 'id': 2874772,\n",
       " 'name': 'Lützel',\n",
       " 'cod': 200}"
      ]
     },
     "execution_count": 52,
     "metadata": {},
     "output_type": "execute_result"
    }
   ],
   "source": [
    "rawData = requests.get(f\"https://api.openweathermap.org/data/2.5/weather?lat={LAT}&lon={LON}&appid={API_KEY}&units={UNITS}\").json()\n",
    "rawData"
   ]
  },
  {
   "cell_type": "code",
   "execution_count": 53,
   "metadata": {},
   "outputs": [
    {
     "data": {
      "text/plain": [
       "{'date': datetime.datetime(2023, 10, 12, 18, 2, 12),\n",
       " 'city_name': 'Lützel',\n",
       " 'city_id': 2874772,\n",
       " 'country': 'DE',\n",
       " 'lon': 7.5906,\n",
       " 'lat': 50.3681,\n",
       " 'base': 'stations',\n",
       " 'temp': 16.41,\n",
       " 'feels_like': 16.46,\n",
       " 'timezone': 7200}"
      ]
     },
     "execution_count": 53,
     "metadata": {},
     "output_type": "execute_result"
    }
   ],
   "source": [
    "parsedData = parsingRawData(rawData)\n",
    "parsedData"
   ]
  },
  {
   "cell_type": "code",
   "execution_count": 54,
   "metadata": {},
   "outputs": [
    {
     "name": "stdout",
     "output_type": "stream",
     "text": [
      "1 Record inserted successfully into tbldata\n",
      "PostgreSQL connection is closed\n"
     ]
    }
   ],
   "source": [
    "insertData(parsedData)"
   ]
  }
 ],
 "metadata": {
  "kernelspec": {
   "display_name": "Python 3",
   "language": "python",
   "name": "python3"
  },
  "language_info": {
   "codemirror_mode": {
    "name": "ipython",
    "version": 3
   },
   "file_extension": ".py",
   "mimetype": "text/x-python",
   "name": "python",
   "nbconvert_exporter": "python",
   "pygments_lexer": "ipython3",
   "version": "3.10.12"
  },
  "orig_nbformat": 4
 },
 "nbformat": 4,
 "nbformat_minor": 2
}
