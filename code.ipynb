{
 "cells": [
  {
   "cell_type": "markdown",
   "metadata": {},
   "source": [
    "#### IMPORT LIBRARIES"
   ]
  },
  {
   "cell_type": "code",
   "execution_count": 38,
   "metadata": {},
   "outputs": [
    {
     "data": {
      "text/plain": [
       "True"
      ]
     },
     "execution_count": 38,
     "metadata": {},
     "output_type": "execute_result"
    }
   ],
   "source": [
    "from os import getenv\n",
    "from datetime import datetime, time\n",
    "import configparser\n",
    "import requests\n",
    "import pandas as pd\n",
    "import psycopg2\n",
    "from dotenv import load_dotenv\n",
    "load_dotenv()"
   ]
  },
  {
   "cell_type": "markdown",
   "metadata": {},
   "source": [
    "#### CONFIGURATIONS"
   ]
  },
  {
   "cell_type": "code",
   "execution_count": 26,
   "metadata": {},
   "outputs": [],
   "source": [
    "try:\n",
    "  API_KEY = getenv('API_KEY')\n",
    "  LAT = getenv('LAT')\n",
    "  LON = getenv('LON')\n",
    "  UNITS = getenv('UNITS')\n",
    "\n",
    "  # read postgres database password\n",
    "  DATABASE_HOST = getenv('DATABASE_HOST')\n",
    "  DATABASE_USER = getenv('DATABASE_USER')\n",
    "  DATABASE_NAME = getenv('DATABASE_NAME')\n",
    "  DATABASE_PASSWORD = getenv('DATABASE_PASSWORD')\n",
    "\n",
    "  # read snowflake credentials\n",
    "  SN_USERNAME = getenv('SN_USERNAME')\n",
    "  SN_PASSWORD = getenv('SN_PASSWORD')\n",
    "  SN_ACCOUNTNAME = getenv('SN_ACCOUNTNAME')\n",
    "  SN_WAREHOUSENAME = getenv('SN_WAREHOUSENAME')\n",
    "  SN_DBNAME = getenv('SN_DBNAME')\n",
    "  SN_SCHEMANAME = getenv('SN_SCHEMANAME')\n",
    "  \n",
    "except:\n",
    "  print(\"An exception occurred in Configurations\")"
   ]
  },
  {
   "cell_type": "markdown",
   "metadata": {},
   "source": [
    "#### CONNECT DATABASE"
   ]
  },
  {
   "cell_type": "code",
   "execution_count": 27,
   "metadata": {},
   "outputs": [],
   "source": [
    "def dbConnect():\n",
    "  try:\n",
    "    conn = psycopg2.connect(f\"host={DATABASE_HOST} dbname={DATABASE_NAME} user={DATABASE_USER} password={DATABASE_PASSWORD}\")\n",
    "    return conn\n",
    "  \n",
    "  except:\n",
    "    print(\"Error occurred while connecting to Database\")"
   ]
  },
  {
   "cell_type": "markdown",
   "metadata": {},
   "source": [
    "## CODE"
   ]
  },
  {
   "cell_type": "markdown",
   "metadata": {},
   "source": [
    "#### Parsing Raw Data Function"
   ]
  },
  {
   "cell_type": "code",
   "execution_count": 26,
   "metadata": {},
   "outputs": [],
   "source": [
    "def parsingRawData(rawData: dict) -> dict[dict]:\n",
    "  myDict = {\n",
    "    \"date\": datetime.datetime.fromtimestamp(rawData[\"dt\"]),\n",
    "    \"city_name\": rawData[\"name\"],\n",
    "    \"city_id\": rawData[\"id\"],\n",
    "    \"country\": rawData[\"sys\"][\"country\"],\n",
    "    \"lon\": rawData[\"coord\"][\"lon\"],\n",
    "    \"lat\": rawData[\"coord\"][\"lat\"],\n",
    "    \"base\": rawData[\"base\"],\n",
    "    \"temp\": rawData[\"main\"][\"temp\"],\n",
    "    \"feels_like\": rawData[\"main\"][\"feels_like\"],\n",
    "    \"timezone\": rawData[\"timezone\"]\n",
    "  }\n",
    "  return myDict"
   ]
  },
  {
   "cell_type": "markdown",
   "metadata": {},
   "source": [
    "#### Insert Data Function"
   ]
  },
  {
   "cell_type": "code",
   "execution_count": 27,
   "metadata": {},
   "outputs": [],
   "source": [
    "def insertData(parsedData: dict):\n",
    "    conn = dbConnect()\n",
    "    try:\n",
    "        cursor = conn.cursor()\n",
    "\n",
    "        SQL = \"INSERT INTO tbldata (city_id, lat, lon, temp, feels_like, city_name, country, timezone, date) VALUES (%s, %s, %s, %s, %s, %s, %s, %s, %s);\"\n",
    "        data = (\n",
    "            parsedData[\"city_id\"],\n",
    "            parsedData['lat'],\n",
    "            parsedData[\"lon\"],\n",
    "            parsedData[\"temp\"],\n",
    "            parsedData[\"feels_like\"],\n",
    "            parsedData[\"city_name\"],\n",
    "            parsedData[\"country\"],\n",
    "            parsedData[\"timezone\"],\n",
    "            parsedData[\"date\"],\n",
    "            )\n",
    "        cursor.execute(SQL, data)\n",
    "\n",
    "        conn.commit()\n",
    "        count = cursor.rowcount\n",
    "        print(count, \"Record inserted successfully into tbldata\")\n",
    "\n",
    "    except (Exception, psycopg2.Error) as error:\n",
    "        print(\"Failed to insert record into tbldata\", error)\n",
    "\n",
    "    finally:\n",
    "        # closing database connection.\n",
    "        if conn:\n",
    "            cursor.close()\n",
    "            conn.close()\n",
    "            print(\"PostgreSQL connection is closed\")"
   ]
  },
  {
   "cell_type": "markdown",
   "metadata": {},
   "source": [
    "#### API Call"
   ]
  },
  {
   "cell_type": "code",
   "execution_count": 28,
   "metadata": {},
   "outputs": [
    {
     "data": {
      "text/plain": [
       "{'coord': {'lon': 7.5906, 'lat': 50.3681},\n",
       " 'weather': [{'id': 500,\n",
       "   'main': 'Rain',\n",
       "   'description': 'light rain',\n",
       "   'icon': '10n'}],\n",
       " 'base': 'stations',\n",
       " 'main': {'temp': 12.84,\n",
       "  'feels_like': 12.61,\n",
       "  'temp_min': 11.92,\n",
       "  'temp_max': 13.63,\n",
       "  'pressure': 993,\n",
       "  'humidity': 93},\n",
       " 'visibility': 10000,\n",
       " 'wind': {'speed': 15.65, 'deg': 22},\n",
       " 'rain': {'1h': 0.21},\n",
       " 'clouds': {'all': 100},\n",
       " 'dt': 1698694920,\n",
       " 'sys': {'type': 2,\n",
       "  'id': 19193,\n",
       "  'country': 'DE',\n",
       "  'sunrise': 1698646557,\n",
       "  'sunset': 1698682230},\n",
       " 'timezone': 3600,\n",
       " 'id': 2874772,\n",
       " 'name': 'Lützel',\n",
       " 'cod': 200}"
      ]
     },
     "execution_count": 28,
     "metadata": {},
     "output_type": "execute_result"
    }
   ],
   "source": [
    "rawData = requests.get(f\"https://api.openweathermap.org/data/2.5/weather?lat={LAT}&lon={LON}&appid={API_KEY}&units={UNITS}\").json()\n",
    "rawData"
   ]
  },
  {
   "cell_type": "code",
   "execution_count": 29,
   "metadata": {},
   "outputs": [
    {
     "data": {
      "text/plain": [
       "{'date': datetime.datetime(2023, 10, 30, 20, 42),\n",
       " 'city_name': 'Lützel',\n",
       " 'city_id': 2874772,\n",
       " 'country': 'DE',\n",
       " 'lon': 7.5906,\n",
       " 'lat': 50.3681,\n",
       " 'base': 'stations',\n",
       " 'temp': 12.84,\n",
       " 'feels_like': 12.61,\n",
       " 'timezone': 3600}"
      ]
     },
     "execution_count": 29,
     "metadata": {},
     "output_type": "execute_result"
    }
   ],
   "source": [
    "parsedData = parsingRawData(rawData)\n",
    "parsedData"
   ]
  },
  {
   "cell_type": "code",
   "execution_count": 30,
   "metadata": {},
   "outputs": [
    {
     "name": "stdout",
     "output_type": "stream",
     "text": [
      "1 Record inserted successfully into tbldata\n",
      "PostgreSQL connection is closed\n"
     ]
    }
   ],
   "source": [
    "insertData(parsedData)"
   ]
  },
  {
   "cell_type": "markdown",
   "metadata": {},
   "source": [
    "# Export CSV"
   ]
  },
  {
   "cell_type": "code",
   "execution_count": 47,
   "metadata": {},
   "outputs": [
    {
     "name": "stdout",
     "output_type": "stream",
     "text": [
      "2024-01-07\n"
     ]
    }
   ],
   "source": [
    "# start_of_day = datetime.combine(datetime.now(), time.min)\n",
    "start_of_day = datetime.now().strftime('%Y-%m-%d')\n",
    "print(start_of_day)"
   ]
  },
  {
   "cell_type": "code",
   "execution_count": 56,
   "metadata": {},
   "outputs": [
    {
     "name": "stdout",
     "output_type": "stream",
     "text": [
      "PostgreSQL connection is closed\n"
     ]
    }
   ],
   "source": [
    "def exportData():\n",
    "    conn = dbConnect()\n",
    "    try:\n",
    "        start_of_day = datetime.combine(datetime.now(), time.min)\n",
    "        end_of_day = datetime.combine(datetime.now(), time.max)\n",
    "        cursor = conn.cursor()\n",
    "\n",
    "        filename = 'tblweatherdata_' + datetime.now().strftime('%Y-%m-%d') + '.csv'\n",
    "        csv_file = open(filename, 'w')\n",
    "\n",
    "        SQL = f\"\"\"\n",
    "        COPY (select * from tblweatherdata where date between '{start_of_day}' and '{end_of_day}') TO STDOUT  WITH DELIMITER ',' CSV HEADER;\n",
    "        \"\"\"\n",
    "        cursor.copy_expert(sql=SQL, file=csv_file)\n",
    "\n",
    "        conn.commit()\n",
    "\n",
    "    except (Exception, psycopg2.Error) as error:\n",
    "        print(\"Failed to export CSV\", error)\n",
    "\n",
    "    finally:\n",
    "        # closing database connection.\n",
    "        if conn:\n",
    "            cursor.close()\n",
    "            conn.close()\n",
    "            print(\"PostgreSQL connection is closed\")\n",
    "exportData()"
   ]
  },
  {
   "cell_type": "markdown",
   "metadata": {},
   "source": [
    "# Snowflake"
   ]
  },
  {
   "cell_type": "markdown",
   "metadata": {},
   "source": [
    "#### snowflake connection"
   ]
  },
  {
   "cell_type": "code",
   "execution_count": 23,
   "metadata": {},
   "outputs": [],
   "source": [
    "import snowflake.connector\n",
    "try:\n",
    "    SF_Conn = snowflake.connector.connect(\n",
    "        user=SN_USERNAME,\n",
    "        password=SN_PASSWORD,\n",
    "        account=SN_ACCOUNTNAME,\n",
    "        warehouse=SN_WAREHOUSENAME,\n",
    "        database=SN_DBNAME,\n",
    "        schema=SN_SCHEMANAME\n",
    "    )\n",
    "except (Exception) as error:\n",
    "    print(error)"
   ]
  },
  {
   "cell_type": "markdown",
   "metadata": {},
   "source": [
    "#### snowflake create staging"
   ]
  },
  {
   "cell_type": "code",
   "execution_count": 24,
   "metadata": {},
   "outputs": [
    {
     "data": {
      "text/plain": [
       "<snowflake.connector.cursor.SnowflakeCursor at 0x7f35171f3640>"
      ]
     },
     "execution_count": 24,
     "metadata": {},
     "output_type": "execute_result"
    }
   ],
   "source": [
    "SF_Conn.cursor().execute(\"\"\"\n",
    "create or replace stage my_postgres_stage\n",
    "copy_options = (on_error='skip_file')\n",
    "file_format = (type = 'CSV' field_delimiter = ',' skip_header = 1 field_optionally_enclosed_by='\"');\n",
    "\"\"\")"
   ]
  },
  {
   "cell_type": "markdown",
   "metadata": {},
   "source": [
    "#### snowflake PUT staging"
   ]
  },
  {
   "cell_type": "code",
   "execution_count": null,
   "metadata": {},
   "outputs": [],
   "source": [
    "SF_Conn.cursor().execute(\"\"\"\n",
    "PUT file:///home/azhar/repo/etl-weather/snowflakeQueries/tblweatherdata.csv @my_postgres_stage;\n",
    "\"\"\")"
   ]
  },
  {
   "cell_type": "markdown",
   "metadata": {},
   "source": [
    "#### snowflake execute staging to temporary table"
   ]
  },
  {
   "cell_type": "code",
   "execution_count": null,
   "metadata": {},
   "outputs": [],
   "source": [
    "SF_Conn.cursor().execute(\"\"\"\n",
    "COPY INTO \"SF_OPENWEATHER\".\"PUBLIC\".\"weather_data_clone\"\n",
    "FROM '@\"SF_OPENWEATHER\".\"PUBLIC\".\"MY_POSTGRES_STAGE\"'\n",
    "PATTERN = '.*tblweatherdata_.*[.]csv[.]gz'\n",
    "FILE_FORMAT = (\n",
    "    TYPE=CSV,\n",
    "    SKIP_HEADER=1,\n",
    "    FIELD_DELIMITER=',',\n",
    "    TRIM_SPACE=FALSE,\n",
    "    FIELD_OPTIONALLY_ENCLOSED_BY=NONE,\n",
    "    REPLACE_INVALID_CHARACTERS=TRUE,\n",
    "    DATE_FORMAT='YYYY-MM-DD',\n",
    "    TIME_FORMAT=AUTO,\n",
    "    TIMESTAMP_FORMAT='YYYY-MM-DD HH24:MI:SS'\n",
    ")\n",
    "ON_ERROR=CONTINUE\n",
    "PURGE=TRUE;\n",
    "\"\"\")"
   ]
  },
  {
   "cell_type": "markdown",
   "metadata": {},
   "source": [
    "#### merge Source table into Target table\n",
    "<!-- Transient || Temporary Table to Target||Final Table -->\n",
    "\n"
   ]
  },
  {
   "cell_type": "code",
   "execution_count": null,
   "metadata": {},
   "outputs": [],
   "source": [
    "SF_Conn.cursor().execute(\"\"\"\n",
    "MERGE INTO \"weather_data\" AS target\n",
    "  USING (SELECT * FROM \"weather_data_clone\") AS source \n",
    "ON target.\"id\" = source.\"id\"\n",
    "WHEN NOT MATCHED THEN INSERT (target.\"id\", target.\"city_id\", target.\"lon\", target.\"lat\", target.\"temp\", target.\"feels_like\", target.\"city_name\", target.\"country\", target.\"timezone\", target.\"date\") VALUES (source.\"id\", source.\"city_id\", source.\"lon\", source.\"lat\", source.\"temp\", source.\"feels_like\", source.\"city_name\", source.\"country\", source.\"timezone\", source.\"date\");\n",
    "\"\"\")"
   ]
  }
 ],
 "metadata": {
  "kernelspec": {
   "display_name": "Python 3",
   "language": "python",
   "name": "python3"
  },
  "language_info": {
   "codemirror_mode": {
    "name": "ipython",
    "version": 3
   },
   "file_extension": ".py",
   "mimetype": "text/x-python",
   "name": "python",
   "nbconvert_exporter": "python",
   "pygments_lexer": "ipython3",
   "version": "3.10.12"
  },
  "orig_nbformat": 4
 },
 "nbformat": 4,
 "nbformat_minor": 2
}
