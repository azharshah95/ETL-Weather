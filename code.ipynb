{
 "cells": [
  {
   "cell_type": "code",
   "execution_count": 6,
   "metadata": {},
   "outputs": [],
   "source": [
    "import configparser\n",
    "import requests"
   ]
  },
  {
   "cell_type": "code",
   "execution_count": 9,
   "metadata": {},
   "outputs": [],
   "source": [
    "try:\n",
    "  # read config \n",
    "  config = configparser.ConfigParser()\n",
    "  config.read('config.ini')\n",
    "\n",
    "  # read openweather Config\n",
    "  API_KEY = config['openweather']['API_KEY']\n",
    "  LAT = config['openweather']['LAT']\n",
    "  LON = config['openweather']['LON']\n",
    "  UNITS = config['openweather']['UNITS']\n",
    "  \n",
    "except:\n",
    "  print(\"An exception occurred in Configurations\")"
   ]
  },
  {
   "cell_type": "code",
   "execution_count": 10,
   "metadata": {},
   "outputs": [
    {
     "data": {
      "text/plain": [
       "{'coord': {'lon': 7.5906, 'lat': 50.3681},\n",
       " 'weather': [{'id': 804,\n",
       "   'main': 'Clouds',\n",
       "   'description': 'overcast clouds',\n",
       "   'icon': '04d'}],\n",
       " 'base': 'stations',\n",
       " 'main': {'temp': 27.69,\n",
       "  'feels_like': 29.1,\n",
       "  'temp_min': 25.71,\n",
       "  'temp_max': 28.4,\n",
       "  'pressure': 1009,\n",
       "  'humidity': 61},\n",
       " 'visibility': 10000,\n",
       " 'wind': {'speed': 3.28, 'deg': 190, 'gust': 4.99},\n",
       " 'clouds': {'all': 100},\n",
       " 'dt': 1694956921,\n",
       " 'sys': {'type': 2,\n",
       "  'id': 19193,\n",
       "  'country': 'DE',\n",
       "  'sunrise': 1694927259,\n",
       "  'sunset': 1694972470},\n",
       " 'timezone': 7200,\n",
       " 'id': 2874772,\n",
       " 'name': 'Lützel',\n",
       " 'cod': 200}"
      ]
     },
     "execution_count": 10,
     "metadata": {},
     "output_type": "execute_result"
    }
   ],
   "source": [
    "r = requests.get(f\"https://api.openweathermap.org/data/2.5/weather?lat={LAT}&lon={LON}&appid={API_KEY}&units={UNITS}\")\n",
    "r.json()"
   ]
  }
 ],
 "metadata": {
  "kernelspec": {
   "display_name": "Python 3",
   "language": "python",
   "name": "python3"
  },
  "language_info": {
   "codemirror_mode": {
    "name": "ipython",
    "version": 3
   },
   "file_extension": ".py",
   "mimetype": "text/x-python",
   "name": "python",
   "nbconvert_exporter": "python",
   "pygments_lexer": "ipython3",
   "version": "3.10.12"
  },
  "orig_nbformat": 4
 },
 "nbformat": 4,
 "nbformat_minor": 2
}
